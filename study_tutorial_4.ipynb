{
  "nbformat": 4,
  "nbformat_minor": 0,
  "metadata": {
    "colab": {
      "provenance": [],
      "mount_file_id": "1mZwLxp-hSbEPS7-wrwzWw2RQek03KcEB",
      "authorship_tag": "ABX9TyOna8Xf4TvYFcyg06FHlKIN",
      "include_colab_link": true
    },
    "kernelspec": {
      "name": "python3",
      "display_name": "Python 3"
    },
    "language_info": {
      "name": "python"
    }
  },
  "cells": [
    {
      "cell_type": "markdown",
      "metadata": {
        "id": "view-in-github",
        "colab_type": "text"
      },
      "source": [
        "<a href=\"https://colab.research.google.com/github/kg4-ken1ro/mypandas_tutorial_4/blob/main/study_tutorial_4.ipynb\" target=\"_parent\"><img src=\"https://colab.research.google.com/assets/colab-badge.svg\" alt=\"Open In Colab\"/></a>"
      ]
    },
    {
      "cell_type": "code",
      "source": [
        "from google.colab import drive\n",
        "drive.mount('/content/drive')"
      ],
      "metadata": {
        "colab": {
          "base_uri": "https://localhost:8080/"
        },
        "id": "ZVUlvHOTW0g9",
        "outputId": "31ea8015-080f-4f88-d6b4-50b443e9a83b"
      },
      "execution_count": 1,
      "outputs": [
        {
          "output_type": "stream",
          "name": "stdout",
          "text": [
            "Drive already mounted at /content/drive; to attempt to forcibly remount, call drive.mount(\"/content/drive\", force_remount=True).\n"
          ]
        }
      ]
    },
    {
      "cell_type": "code",
      "execution_count": 2,
      "metadata": {
        "colab": {
          "base_uri": "https://localhost:8080/"
        },
        "id": "KzjGhn6X_0uA",
        "outputId": "97a14720-1d55-47cf-887e-5bbe81797a4c"
      },
      "outputs": [
        {
          "output_type": "stream",
          "name": "stdout",
          "text": [
            "{'colsample_bylevel': 0.8, 'colsample_bytree': 0.8, 'learning_rate': 0.1, 'max_depth': 3, 'min_child_weight': 3, 'n_estimetors': 10000, 'n_jobs': 1, 'random_state': 0, 'reg_alpha': 0}\n"
          ]
        }
      ],
      "source": [
        "%matplotlib inline\n",
        "import warnings\n",
        "import numpy as np\n",
        "import pandas as pd\n",
        "import xgboost as xgb\n",
        "import matplotlib.pylab as plt\n",
        "\n",
        "from sklearn.metrics import accuracy_score\n",
        "from sklearn.model_selection import StratifiedKFold\n",
        "\n",
        "# 組み合わせが多いので、進捗を可視化するツールを入れる。\n",
        "from tqdm import tqdm_notebook as tqdm\n",
        "\n",
        "warnings.filterwarnings('ignore')\n",
        "\n",
        "from sklearn.model_selection import ParameterGrid\n",
        "\n",
        "# all_paramsはグローバル変数\n",
        "all_params = {\n",
        "    'max_depth': [3, 5, 7],\n",
        "    'learning_rate': [0.1],\n",
        "    'min_child_weight': [3, 5, 10],\n",
        "    'n_estimetors': [10000],\n",
        "    'colsample_bytree': [0.8, 0.9, 1.0],\n",
        "    'colsample_bylevel': [0.8, 0.9, 1.0],\n",
        "    'reg_alpha': [0, 0.1],\n",
        "    'random_state': [0],\n",
        "    'n_jobs': [1],\n",
        "    }\n",
        "\n",
        "for params in ParameterGrid(all_params):\n",
        "  print(params)\n",
        "  break"
      ]
    },
    {
      "cell_type": "code",
      "source": [
        "def validate(train_x, train_y, params):\n",
        "  accuracies = []\n",
        "  feature_importances = []\n",
        "\n",
        "  cv = StratifiedKFold(n_splits=3, shuffle=True, random_state=0)\n",
        "  for train_idx, test_idx in cv.split(train_x, train_y):\n",
        "    trn_x = train_x.iloc[train_idx, :]\n",
        "    val_x = train_x.iloc[test_idx, :]\n",
        "\n",
        "    trn_y = train_y.iloc[train_idx]\n",
        "    val_y = train_y.iloc[test_idx]\n",
        "\n",
        "    clf = xgb.XGBClassifier(**params)\n",
        "    clf.fit(trn_x, trn_y)\n",
        "\n",
        "    pred_y = clf.predict(val_x)\n",
        "    feature_importances.append(clf.feature_importances_)\n",
        "    accuracies.append(accuracy_score(val_y, pred_y))\n",
        "  return accuracies, feature_importances"
      ],
      "metadata": {
        "id": "cimLj86Y_6YY"
      },
      "execution_count": 3,
      "outputs": []
    },
    {
      "cell_type": "code",
      "source": [
        "def plot_feature_importances(feature_importances, cols):\n",
        "  df_fimp = pd.DataFrame(feature_importances, columns=cols)\n",
        "  df_fimp.plot(kind='box', rot=90)"
      ],
      "metadata": {
        "id": "6iLii1BwGaPJ"
      },
      "execution_count": 4,
      "outputs": []
    },
    {
      "cell_type": "code",
      "source": [
        "def preprocess_df(df):\n",
        "  # CabinはこのあとDropするので、コードから削除\n",
        "  df[\"Age\"] = df[\"Age\"].fillna(df[\"Age\"].mean())\n",
        "  df[\"Embarked\"] = df[\"Embarked\"].fillna(df[\"Embarked\"].mode())\n",
        "  df[\"FamilySize\"] = df[\"SibSp\"] + df[\"Parch\"] + 1\n",
        "\n",
        "  # 列の削除\n",
        "  df.drop([\"Name\", \"Ticket\", \"Cabin\", \"PassengerId\"], axis=1, inplace=True)\n",
        "\n",
        "  # Sexの置換とEmbarkedのダミー化\n",
        "  df[\"Sex\"] = df[\"Sex\"].replace({\"male\": 0, \"female\": 1})\n",
        "  df = pd.get_dummies(df)\n",
        "\n",
        "  return df"
      ],
      "metadata": {
        "id": "spkgFGrAG0_h"
      },
      "execution_count": 5,
      "outputs": []
    },
    {
      "cell_type": "code",
      "source": [
        "def predict_df(train_x,train_y,test_x, df_test_raw, path_output=\"result.csv\"):\n",
        "  params = {\n",
        "      'learning_rate': 0.008306052798923729,\n",
        "      'max_depth': 7,\n",
        "      'min_child_weight': 3,\n",
        "      'colsample_bytree': 0.8210307463506532,\n",
        "      'colsample_bylevel': 0.8061816543590015\n",
        "  }\n",
        "\n",
        "  clf = xgb.XGBClassifier(**params)\n",
        "  clf.fit(train_x, train_y)\n",
        "  preds = clf.predict(test_x)\n",
        "\n",
        "  _df = pd.DateFrame()\n",
        "  _df[\"PassengerId\"] = df_test_raw[\"PassengerId\"]\n",
        "  _df[\"Survived\"] = preds\n",
        "  _df.to_csv(path_output, index=False)"
      ],
      "metadata": {
        "id": "qhOLAB5dIi-_"
      },
      "execution_count": 6,
      "outputs": []
    },
    {
      "cell_type": "code",
      "source": [
        "def main():\n",
        "  df_train = pd.read_csv(\"drive/MyDrive/train.csv\")\n",
        "\n",
        "  # 前処理\n",
        "  train_y = df_train[\"Survived\"]\n",
        "  train_x = df_train.drop(\"Survived\", axis=1)\n",
        "\n",
        "  train_x = preprocess_df(train_x)\n",
        "  accuracies, feature_importances = validate(train_x, train_y, {})\n",
        "  plot_feature_importances(feature_importances, train_x.columns)\n",
        "\n",
        "  flag_product = True\n",
        "  if flag_product:\n",
        "    df_test = pd.read_csv(\"drive/MyDrive/test.csv\")\n",
        "    df_test_raw = df.test.copy()\n",
        "    test_x = preprocess_df(df_test)\n",
        "    predict_df(train_x, train_y, test_x, df_test_raw, \"result.csv\")"
      ],
      "metadata": {
        "id": "ng0IT2-OKrZ9"
      },
      "execution_count": 7,
      "outputs": []
    },
    {
      "cell_type": "code",
      "source": [
        "# main文を書き換え、別関数として定義\n",
        "def main_parametersearch():\n",
        "  df_train = pd.read_csv(\"/drive/MyDrive/train.csv\")\n",
        "  train_y = df_train[\"Survived\"]\n",
        "  train_x = df_train.drop(\"Survived\", axis=1)\n",
        "  train_x = preprocess_df(train_x)\n",
        "\n",
        "  # ここまではmainと同じ\n",
        "  # tqdmで囲むことで、進捗を可視化できます。\n",
        "  best_score = 0\n",
        "  best_params = {}\n",
        "  for params in tqdm(ParameterGrid(all_params)):\n",
        "    accuracies, feature_importances = validate(train_x, train_y, params)\n",
        "\n",
        "     # もしaccuracyの平均値が最大だった場合、best_scoreを更新して、best_paramsを更新する\n",
        "    if np.mean(accuracies) > best_score:\n",
        "      best_score = np.mean(accuracies)\n",
        "      best_params = params\n",
        "  print(best_score, best_params)\n",
        "\n",
        "# 呼んでいる関数を変えた\n",
        "if __name__ == \"__main_\":\n",
        "  main_parametersearch()"
      ],
      "metadata": {
        "id": "wNbcvLEsOHIV"
      },
      "execution_count": 8,
      "outputs": []
    },
    {
      "cell_type": "markdown",
      "source": [],
      "metadata": {
        "id": "Hf8swNzMXKEY"
      }
    },
    {
      "cell_type": "markdown",
      "source": [],
      "metadata": {
        "id": "fCJG76bOOY02"
      }
    }
  ]
}